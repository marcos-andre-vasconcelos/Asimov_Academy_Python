{
 "cells": [
  {
   "cell_type": "markdown",
   "id": "6981e037-9037-4a26-8e43-587b1c75e7e4",
   "metadata": {},
   "source": [
    "### Try, except e finally"
   ]
  },
  {
   "cell_type": "code",
   "execution_count": 4,
   "id": "b09e1d6e-0f4c-48c8-a5ed-4856c06efda2",
   "metadata": {},
   "outputs": [
    {
     "name": "stdout",
     "output_type": "stream",
     "text": [
      "Erro: can only concatenate list (not \"int\") to list\n",
      "Olá\n"
     ]
    }
   ],
   "source": [
    "x = [1,2,3]\n",
    "y = 1\n",
    "\n",
    "try:\n",
    "    x + y\n",
    "    x = 1\n",
    "    y = 1\n",
    "except Exception as e:\n",
    "    print(\"Erro: {}\".format(e))\n",
    "finally:\n",
    "    print(\"Olá\")"
   ]
  }
 ],
 "metadata": {
  "kernelspec": {
   "display_name": "Python 3 (ipykernel)",
   "language": "python",
   "name": "python3"
  },
  "language_info": {
   "codemirror_mode": {
    "name": "ipython",
    "version": 3
   },
   "file_extension": ".py",
   "mimetype": "text/x-python",
   "name": "python",
   "nbconvert_exporter": "python",
   "pygments_lexer": "ipython3",
   "version": "3.9.13"
  }
 },
 "nbformat": 4,
 "nbformat_minor": 5
}
