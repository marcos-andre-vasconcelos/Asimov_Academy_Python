{
 "cells": [
  {
   "cell_type": "code",
   "execution_count": 2,
   "id": "f962a86b-7d78-4b32-95ba-ddfb9f485a9c",
   "metadata": {},
   "outputs": [],
   "source": [
    "import pandas as pd\n",
    "import numpy as np"
   ]
  },
  {
   "cell_type": "markdown",
   "id": "df857fe8-de4d-4d03-9215-4ca03a8bb208",
   "metadata": {},
   "source": [
    "### Series"
   ]
  },
  {
   "cell_type": "code",
   "execution_count": 4,
   "id": "9d601b00-d9e2-4b06-87b7-922d58bec5c6",
   "metadata": {},
   "outputs": [],
   "source": [
    "labels = ['a','b','c']\n",
    "\n",
    "minha_lista = [10,20,30]\n",
    "\n",
    "arr = np.array([10,20,30])\n",
    "\n",
    "d = {'a':10, 'b':20, 'c':30}"
   ]
  },
  {
   "cell_type": "code",
   "execution_count": 7,
   "id": "409fa164-3e19-4900-91c4-ba172110f074",
   "metadata": {},
   "outputs": [
    {
     "data": {
      "text/plain": [
       "10    a\n",
       "20    b\n",
       "30    c\n",
       "dtype: object"
      ]
     },
     "execution_count": 7,
     "metadata": {},
     "output_type": "execute_result"
    }
   ],
   "source": [
    "pd.Series(data=labels, index=minha_lista)\n",
    "#pd.Series(labels, minha_lista)"
   ]
  },
  {
   "cell_type": "code",
   "execution_count": 9,
   "id": "9fce16aa-0ee4-4a5c-a2bc-94ee7150d140",
   "metadata": {},
   "outputs": [],
   "source": [
    "ser1 = pd.Series([1,2,3,4], index = ['EUA', 'Alemanha', 'Rússia', 'Japão'])"
   ]
  },
  {
   "cell_type": "code",
   "execution_count": 11,
   "id": "05f04ae8-5582-4b96-ae43-64b999db99ae",
   "metadata": {},
   "outputs": [],
   "source": [
    "ser2 = pd.Series([1,2,5,4], index = ['EUA', 'Alemanha', 'Rússia', 'Japão'])"
   ]
  },
  {
   "cell_type": "code",
   "execution_count": 14,
   "id": "2c6f4c9e-7ca7-4402-831f-ff36baea8edb",
   "metadata": {},
   "outputs": [
    {
     "data": {
      "text/plain": [
       "EUA         2\n",
       "Alemanha    4\n",
       "Rússia      8\n",
       "Japão       8\n",
       "dtype: int64"
      ]
     },
     "execution_count": 14,
     "metadata": {},
     "output_type": "execute_result"
    }
   ],
   "source": [
    "ser1 + ser2"
   ]
  },
  {
   "cell_type": "markdown",
   "id": "f7eb94fe-ccfb-4004-8ce9-d6105591bb1b",
   "metadata": {},
   "source": [
    "### DataFrames"
   ]
  },
  {
   "cell_type": "code",
   "execution_count": 15,
   "id": "6da248ed-d06a-4162-bbcd-b191231cae63",
   "metadata": {},
   "outputs": [],
   "source": [
    "from numpy.random import randn"
   ]
  },
  {
   "cell_type": "code",
   "execution_count": 16,
   "id": "828abd77-f04c-4ff5-841a-92eb046349e5",
   "metadata": {},
   "outputs": [],
   "source": [
    "df = pd.DataFrame(randn(5,4), index=[\"A\", \"B\", \"C\", \"D\", \"E\"], columns=\"W X Y Z\".split())"
   ]
  },
  {
   "cell_type": "code",
   "execution_count": 18,
   "id": "f16397da-efe4-410a-9d49-91bf604d4d9a",
   "metadata": {},
   "outputs": [
    {
     "data": {
      "text/html": [
       "<div>\n",
       "<style scoped>\n",
       "    .dataframe tbody tr th:only-of-type {\n",
       "        vertical-align: middle;\n",
       "    }\n",
       "\n",
       "    .dataframe tbody tr th {\n",
       "        vertical-align: top;\n",
       "    }\n",
       "\n",
       "    .dataframe thead th {\n",
       "        text-align: right;\n",
       "    }\n",
       "</style>\n",
       "<table border=\"1\" class=\"dataframe\">\n",
       "  <thead>\n",
       "    <tr style=\"text-align: right;\">\n",
       "      <th></th>\n",
       "      <th>W</th>\n",
       "      <th>X</th>\n",
       "      <th>Y</th>\n",
       "      <th>Z</th>\n",
       "    </tr>\n",
       "  </thead>\n",
       "  <tbody>\n",
       "    <tr>\n",
       "      <th>A</th>\n",
       "      <td>0.510521</td>\n",
       "      <td>-0.450467</td>\n",
       "      <td>-0.830446</td>\n",
       "      <td>-0.618462</td>\n",
       "    </tr>\n",
       "    <tr>\n",
       "      <th>B</th>\n",
       "      <td>0.514086</td>\n",
       "      <td>-0.238645</td>\n",
       "      <td>-0.066646</td>\n",
       "      <td>1.393407</td>\n",
       "    </tr>\n",
       "    <tr>\n",
       "      <th>C</th>\n",
       "      <td>-0.578903</td>\n",
       "      <td>0.649416</td>\n",
       "      <td>1.274636</td>\n",
       "      <td>0.058905</td>\n",
       "    </tr>\n",
       "    <tr>\n",
       "      <th>D</th>\n",
       "      <td>-0.428126</td>\n",
       "      <td>0.848341</td>\n",
       "      <td>-0.542240</td>\n",
       "      <td>-2.487372</td>\n",
       "    </tr>\n",
       "    <tr>\n",
       "      <th>E</th>\n",
       "      <td>-0.343188</td>\n",
       "      <td>0.138001</td>\n",
       "      <td>-0.256886</td>\n",
       "      <td>0.034532</td>\n",
       "    </tr>\n",
       "  </tbody>\n",
       "</table>\n",
       "</div>"
      ],
      "text/plain": [
       "          W         X         Y         Z\n",
       "A  0.510521 -0.450467 -0.830446 -0.618462\n",
       "B  0.514086 -0.238645 -0.066646  1.393407\n",
       "C -0.578903  0.649416  1.274636  0.058905\n",
       "D -0.428126  0.848341 -0.542240 -2.487372\n",
       "E -0.343188  0.138001 -0.256886  0.034532"
      ]
     },
     "execution_count": 18,
     "metadata": {},
     "output_type": "execute_result"
    }
   ],
   "source": [
    "df"
   ]
  },
  {
   "cell_type": "code",
   "execution_count": 22,
   "id": "e2e4439f-4467-4e33-9590-83ff6d5349e8",
   "metadata": {},
   "outputs": [
    {
     "data": {
      "text/plain": [
       "A    0.510521\n",
       "B    0.514086\n",
       "C   -0.578903\n",
       "D   -0.428126\n",
       "E   -0.343188\n",
       "Name: W, dtype: float64"
      ]
     },
     "execution_count": 22,
     "metadata": {},
     "output_type": "execute_result"
    }
   ],
   "source": [
    "df['W']"
   ]
  },
  {
   "cell_type": "code",
   "execution_count": 21,
   "id": "a2806848-76da-4c5a-ae5f-84944ddd623a",
   "metadata": {},
   "outputs": [
    {
     "data": {
      "text/html": [
       "<div>\n",
       "<style scoped>\n",
       "    .dataframe tbody tr th:only-of-type {\n",
       "        vertical-align: middle;\n",
       "    }\n",
       "\n",
       "    .dataframe tbody tr th {\n",
       "        vertical-align: top;\n",
       "    }\n",
       "\n",
       "    .dataframe thead th {\n",
       "        text-align: right;\n",
       "    }\n",
       "</style>\n",
       "<table border=\"1\" class=\"dataframe\">\n",
       "  <thead>\n",
       "    <tr style=\"text-align: right;\">\n",
       "      <th></th>\n",
       "      <th>W</th>\n",
       "    </tr>\n",
       "  </thead>\n",
       "  <tbody>\n",
       "    <tr>\n",
       "      <th>A</th>\n",
       "      <td>0.510521</td>\n",
       "    </tr>\n",
       "    <tr>\n",
       "      <th>B</th>\n",
       "      <td>0.514086</td>\n",
       "    </tr>\n",
       "    <tr>\n",
       "      <th>C</th>\n",
       "      <td>-0.578903</td>\n",
       "    </tr>\n",
       "    <tr>\n",
       "      <th>D</th>\n",
       "      <td>-0.428126</td>\n",
       "    </tr>\n",
       "    <tr>\n",
       "      <th>E</th>\n",
       "      <td>-0.343188</td>\n",
       "    </tr>\n",
       "  </tbody>\n",
       "</table>\n",
       "</div>"
      ],
      "text/plain": [
       "          W\n",
       "A  0.510521\n",
       "B  0.514086\n",
       "C -0.578903\n",
       "D -0.428126\n",
       "E -0.343188"
      ]
     },
     "execution_count": 21,
     "metadata": {},
     "output_type": "execute_result"
    }
   ],
   "source": [
    "df[['W']]"
   ]
  },
  {
   "cell_type": "markdown",
   "id": "dc38f9fe-a0e4-4f4a-b9d2-6d539010fddf",
   "metadata": {},
   "source": [
    "- Criação de nova coluna"
   ]
  },
  {
   "cell_type": "code",
   "execution_count": 26,
   "id": "1a385ad2-8711-46ea-a212-a127563a080f",
   "metadata": {},
   "outputs": [
    {
     "data": {
      "text/html": [
       "<div>\n",
       "<style scoped>\n",
       "    .dataframe tbody tr th:only-of-type {\n",
       "        vertical-align: middle;\n",
       "    }\n",
       "\n",
       "    .dataframe tbody tr th {\n",
       "        vertical-align: top;\n",
       "    }\n",
       "\n",
       "    .dataframe thead th {\n",
       "        text-align: right;\n",
       "    }\n",
       "</style>\n",
       "<table border=\"1\" class=\"dataframe\">\n",
       "  <thead>\n",
       "    <tr style=\"text-align: right;\">\n",
       "      <th></th>\n",
       "      <th>W</th>\n",
       "      <th>X</th>\n",
       "      <th>Y</th>\n",
       "      <th>Z</th>\n",
       "      <th>new</th>\n",
       "    </tr>\n",
       "  </thead>\n",
       "  <tbody>\n",
       "    <tr>\n",
       "      <th>A</th>\n",
       "      <td>0.510521</td>\n",
       "      <td>-0.450467</td>\n",
       "      <td>-0.830446</td>\n",
       "      <td>-0.618462</td>\n",
       "      <td>0.060055</td>\n",
       "    </tr>\n",
       "    <tr>\n",
       "      <th>B</th>\n",
       "      <td>0.514086</td>\n",
       "      <td>-0.238645</td>\n",
       "      <td>-0.066646</td>\n",
       "      <td>1.393407</td>\n",
       "      <td>0.275440</td>\n",
       "    </tr>\n",
       "    <tr>\n",
       "      <th>C</th>\n",
       "      <td>-0.578903</td>\n",
       "      <td>0.649416</td>\n",
       "      <td>1.274636</td>\n",
       "      <td>0.058905</td>\n",
       "      <td>0.070513</td>\n",
       "    </tr>\n",
       "    <tr>\n",
       "      <th>D</th>\n",
       "      <td>-0.428126</td>\n",
       "      <td>0.848341</td>\n",
       "      <td>-0.542240</td>\n",
       "      <td>-2.487372</td>\n",
       "      <td>0.420215</td>\n",
       "    </tr>\n",
       "    <tr>\n",
       "      <th>E</th>\n",
       "      <td>-0.343188</td>\n",
       "      <td>0.138001</td>\n",
       "      <td>-0.256886</td>\n",
       "      <td>0.034532</td>\n",
       "      <td>-0.205187</td>\n",
       "    </tr>\n",
       "  </tbody>\n",
       "</table>\n",
       "</div>"
      ],
      "text/plain": [
       "          W         X         Y         Z       new\n",
       "A  0.510521 -0.450467 -0.830446 -0.618462  0.060055\n",
       "B  0.514086 -0.238645 -0.066646  1.393407  0.275440\n",
       "C -0.578903  0.649416  1.274636  0.058905  0.070513\n",
       "D -0.428126  0.848341 -0.542240 -2.487372  0.420215\n",
       "E -0.343188  0.138001 -0.256886  0.034532 -0.205187"
      ]
     },
     "execution_count": 26,
     "metadata": {},
     "output_type": "execute_result"
    }
   ],
   "source": [
    "df[\"new\"] = df['W'] + df['X']\n",
    "df"
   ]
  },
  {
   "cell_type": "code",
   "execution_count": 27,
   "id": "4070b59c-3350-4f29-acd5-d4ed9f0ae98e",
   "metadata": {},
   "outputs": [
    {
     "data": {
      "text/html": [
       "<div>\n",
       "<style scoped>\n",
       "    .dataframe tbody tr th:only-of-type {\n",
       "        vertical-align: middle;\n",
       "    }\n",
       "\n",
       "    .dataframe tbody tr th {\n",
       "        vertical-align: top;\n",
       "    }\n",
       "\n",
       "    .dataframe thead th {\n",
       "        text-align: right;\n",
       "    }\n",
       "</style>\n",
       "<table border=\"1\" class=\"dataframe\">\n",
       "  <thead>\n",
       "    <tr style=\"text-align: right;\">\n",
       "      <th></th>\n",
       "      <th>W</th>\n",
       "      <th>X</th>\n",
       "      <th>Y</th>\n",
       "      <th>Z</th>\n",
       "    </tr>\n",
       "  </thead>\n",
       "  <tbody>\n",
       "    <tr>\n",
       "      <th>A</th>\n",
       "      <td>0.510521</td>\n",
       "      <td>-0.450467</td>\n",
       "      <td>-0.830446</td>\n",
       "      <td>-0.618462</td>\n",
       "    </tr>\n",
       "    <tr>\n",
       "      <th>B</th>\n",
       "      <td>0.514086</td>\n",
       "      <td>-0.238645</td>\n",
       "      <td>-0.066646</td>\n",
       "      <td>1.393407</td>\n",
       "    </tr>\n",
       "    <tr>\n",
       "      <th>C</th>\n",
       "      <td>-0.578903</td>\n",
       "      <td>0.649416</td>\n",
       "      <td>1.274636</td>\n",
       "      <td>0.058905</td>\n",
       "    </tr>\n",
       "    <tr>\n",
       "      <th>D</th>\n",
       "      <td>-0.428126</td>\n",
       "      <td>0.848341</td>\n",
       "      <td>-0.542240</td>\n",
       "      <td>-2.487372</td>\n",
       "    </tr>\n",
       "    <tr>\n",
       "      <th>E</th>\n",
       "      <td>-0.343188</td>\n",
       "      <td>0.138001</td>\n",
       "      <td>-0.256886</td>\n",
       "      <td>0.034532</td>\n",
       "    </tr>\n",
       "  </tbody>\n",
       "</table>\n",
       "</div>"
      ],
      "text/plain": [
       "          W         X         Y         Z\n",
       "A  0.510521 -0.450467 -0.830446 -0.618462\n",
       "B  0.514086 -0.238645 -0.066646  1.393407\n",
       "C -0.578903  0.649416  1.274636  0.058905\n",
       "D -0.428126  0.848341 -0.542240 -2.487372\n",
       "E -0.343188  0.138001 -0.256886  0.034532"
      ]
     },
     "execution_count": 27,
     "metadata": {},
     "output_type": "execute_result"
    }
   ],
   "source": [
    "df.drop('new', axis=1)\n",
    "#axis 1 =  colunas | axis 0 = linhas"
   ]
  },
  {
   "cell_type": "markdown",
   "id": "75d7eca4-bb23-418a-adfa-11e2dd701e75",
   "metadata": {},
   "source": [
    "- Acessar linhas"
   ]
  },
  {
   "cell_type": "code",
   "execution_count": 29,
   "id": "2508b163-4d03-4e58-91ef-cf4a5e0e68a4",
   "metadata": {},
   "outputs": [
    {
     "data": {
      "text/html": [
       "<div>\n",
       "<style scoped>\n",
       "    .dataframe tbody tr th:only-of-type {\n",
       "        vertical-align: middle;\n",
       "    }\n",
       "\n",
       "    .dataframe tbody tr th {\n",
       "        vertical-align: top;\n",
       "    }\n",
       "\n",
       "    .dataframe thead th {\n",
       "        text-align: right;\n",
       "    }\n",
       "</style>\n",
       "<table border=\"1\" class=\"dataframe\">\n",
       "  <thead>\n",
       "    <tr style=\"text-align: right;\">\n",
       "      <th></th>\n",
       "      <th>W</th>\n",
       "      <th>X</th>\n",
       "      <th>Y</th>\n",
       "      <th>Z</th>\n",
       "      <th>new</th>\n",
       "    </tr>\n",
       "  </thead>\n",
       "  <tbody>\n",
       "    <tr>\n",
       "      <th>A</th>\n",
       "      <td>0.510521</td>\n",
       "      <td>-0.450467</td>\n",
       "      <td>-0.830446</td>\n",
       "      <td>-0.618462</td>\n",
       "      <td>0.060055</td>\n",
       "    </tr>\n",
       "    <tr>\n",
       "      <th>B</th>\n",
       "      <td>0.514086</td>\n",
       "      <td>-0.238645</td>\n",
       "      <td>-0.066646</td>\n",
       "      <td>1.393407</td>\n",
       "      <td>0.275440</td>\n",
       "    </tr>\n",
       "  </tbody>\n",
       "</table>\n",
       "</div>"
      ],
      "text/plain": [
       "          W         X         Y         Z       new\n",
       "A  0.510521 -0.450467 -0.830446 -0.618462  0.060055\n",
       "B  0.514086 -0.238645 -0.066646  1.393407  0.275440"
      ]
     },
     "execution_count": 29,
     "metadata": {},
     "output_type": "execute_result"
    }
   ],
   "source": [
    "df.loc[['A', 'B']]"
   ]
  },
  {
   "cell_type": "markdown",
   "id": "db644572-3a04-4d38-94dd-d3986b29e797",
   "metadata": {},
   "source": [
    "- Acessar elementos"
   ]
  },
  {
   "cell_type": "code",
   "execution_count": 34,
   "id": "d581059c-bf89-407c-8424-d1713f09a69a",
   "metadata": {},
   "outputs": [
    {
     "data": {
      "text/plain": [
       "-0.8304455673294646"
      ]
     },
     "execution_count": 34,
     "metadata": {},
     "output_type": "execute_result"
    }
   ],
   "source": [
    "df.iloc[0,2]"
   ]
  },
  {
   "cell_type": "markdown",
   "id": "adbb2859-b0f6-4cc9-8aaf-8fe0af89aea8",
   "metadata": {},
   "source": [
    "### Índice"
   ]
  },
  {
   "cell_type": "code",
   "execution_count": 35,
   "id": "5e36e6f8-3e75-429c-a4a7-b35ee0061343",
   "metadata": {},
   "outputs": [
    {
     "data": {
      "text/plain": [
       "Index(['A', 'B', 'C', 'D', 'E'], dtype='object')"
      ]
     },
     "execution_count": 35,
     "metadata": {},
     "output_type": "execute_result"
    }
   ],
   "source": [
    "df.index"
   ]
  },
  {
   "cell_type": "code",
   "execution_count": 36,
   "id": "5ce9153a-4647-4420-a478-dd3705e3697b",
   "metadata": {},
   "outputs": [
    {
     "data": {
      "text/plain": [
       "Index(['W', 'X', 'Y', 'Z', 'new'], dtype='object')"
      ]
     },
     "execution_count": 36,
     "metadata": {},
     "output_type": "execute_result"
    }
   ],
   "source": [
    "df.columns"
   ]
  }
 ],
 "metadata": {
  "kernelspec": {
   "display_name": "Python 3 (ipykernel)",
   "language": "python",
   "name": "python3"
  },
  "language_info": {
   "codemirror_mode": {
    "name": "ipython",
    "version": 3
   },
   "file_extension": ".py",
   "mimetype": "text/x-python",
   "name": "python",
   "nbconvert_exporter": "python",
   "pygments_lexer": "ipython3",
   "version": "3.9.13"
  }
 },
 "nbformat": 4,
 "nbformat_minor": 5
}
